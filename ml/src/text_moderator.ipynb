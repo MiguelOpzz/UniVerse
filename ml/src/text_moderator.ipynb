{
 "cells": [
  {
   "cell_type": "code",
   "execution_count": 8,
   "metadata": {},
   "outputs": [
    {
     "ename": "ModuleNotFoundError",
     "evalue": "No module named 'pandas'",
     "output_type": "error",
     "traceback": [
      "\u001b[1;31m---------------------------------------------------------------------------\u001b[0m",
      "\u001b[1;31mModuleNotFoundError\u001b[0m                       Traceback (most recent call last)",
      "Cell \u001b[1;32mIn[8], line 1\u001b[0m\n\u001b[1;32m----> 1\u001b[0m \u001b[38;5;28;01mimport\u001b[39;00m \u001b[38;5;21;01mpandas\u001b[39;00m \u001b[38;5;28;01mas\u001b[39;00m \u001b[38;5;21;01mpd\u001b[39;00m\n\u001b[0;32m      2\u001b[0m \u001b[38;5;28;01mimport\u001b[39;00m \u001b[38;5;21;01mnumpy\u001b[39;00m \u001b[38;5;28;01mas\u001b[39;00m \u001b[38;5;21;01mnp\u001b[39;00m\n\u001b[0;32m      3\u001b[0m \u001b[38;5;28;01mfrom\u001b[39;00m \u001b[38;5;21;01msklearn\u001b[39;00m\u001b[38;5;21;01m.\u001b[39;00m\u001b[38;5;21;01mfeature_extraction\u001b[39;00m\u001b[38;5;21;01m.\u001b[39;00m\u001b[38;5;21;01mtext\u001b[39;00m \u001b[38;5;28;01mimport\u001b[39;00m TfidfVectorizer\n",
      "\u001b[1;31mModuleNotFoundError\u001b[0m: No module named 'pandas'"
     ]
    }
   ],
   "source": [
    "import pandas as pd\n",
    "import numpy as np\n",
    "from sklearn.feature_extraction.text import TfidfVectorizer\n",
    "from sklearn.model_selection import train_test_split\n",
    "from sklearn.linear_model import LogisticRegression\n",
    "import re"
   ]
  },
  {
   "cell_type": "code",
   "execution_count": null,
   "metadata": {},
   "outputs": [],
   "source": [
    "class TextModerator:\n",
    "    def __init__(self):\n",
    "        self.offensive_words = set()\n",
    "        self.vectorizer = TfidfVectorizer()\n",
    "        self.classifier = LogisticRegression()\n",
    "        self.load_data()\n",
    "    \n",
    "    def load_data(self):\n",
    "        \"\"\"Load all necessary data\"\"\"\n",
    "        # Load offensive words\n",
    "        with open('../data/offensive_words.txt', 'r', encoding='utf-8') as f:\n",
    "            self.offensive_words = set(word.strip().lower() for word in f.readlines())\n",
    "        \n",
    "        # Load training examples\n",
    "        with open('../data/training_data/safe_examples.txt', 'r', encoding='utf-8') as f:\n",
    "            safe_examples = [line.strip() for line in f.readlines()]\n",
    "            \n",
    "        with open('../data/training_data/unsafe_examples.txt', 'r', encoding='utf-8') as f:\n",
    "            unsafe_examples = [line.strip() for line in f.readlines()]\n",
    "            \n",
    "        # Create training dataset\n",
    "        self.training_data = pd.DataFrame({\n",
    "            'text': safe_examples + unsafe_examples,\n",
    "            'is_unsafe': [0] * len(safe_examples) + [1] * len(unsafe_examples)\n",
    "        })\n",
    "    \n",
    "    def train_model(self):\n",
    "        \"\"\"Train the moderation model\"\"\"\n",
    "        X = self.vectorizer.fit_transform(self.training_data['text'])\n",
    "        y = self.training_data['is_unsafe']\n",
    "        self.classifier.fit(X, y)\n",
    "    \n",
    "    def check_text(self, text):\n",
    "        \"\"\"Check if text is safe or unsafe\"\"\"\n",
    "        # Direct word matching\n",
    "        text_lower = text.lower()\n",
    "        for word in self.offensive_words:\n",
    "            if word in text_lower:\n",
    "                return {\n",
    "                    'is_safe': False,\n",
    "                    'reason': f'Contains offensive word',\n",
    "                    'confidence': 1.0\n",
    "                }\n",
    "        \n",
    "        # ML-based check\n",
    "        text_vector = self.vectorizer.transform([text])\n",
    "        prediction = self.classifier.predict(text_vector)[0]\n",
    "        probability = self.classifier.predict_proba(text_vector)[0]\n",
    "        \n",
    "        return {\n",
    "            'is_safe': prediction == 0,\n",
    "            'reason': 'ML model prediction',\n",
    "            'confidence': max(probability)\n",
    "        }"
   ]
  }
 ],
 "metadata": {
  "kernelspec": {
   "display_name": ".venv",
   "language": "python",
   "name": "python3"
  },
  "language_info": {
   "codemirror_mode": {
    "name": "ipython",
    "version": 3
   },
   "file_extension": ".py",
   "mimetype": "text/x-python",
   "name": "python",
   "nbconvert_exporter": "python",
   "pygments_lexer": "ipython3",
   "version": "3.12.0"
  }
 },
 "nbformat": 4,
 "nbformat_minor": 2
}
