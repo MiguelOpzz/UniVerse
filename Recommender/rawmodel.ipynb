{
  "nbformat": 4,
  "nbformat_minor": 0,
  "metadata": {
    "colab": {
      "provenance": []
    },
    "kernelspec": {
      "name": "python3",
      "display_name": "Python 3"
    },
    "language_info": {
      "name": "python"
    }
  },
  "cells": [
    {
      "cell_type": "code",
      "execution_count": null,
      "metadata": {
        "id": "TG1LBnr51Mlh"
      },
      "outputs": [],
      "source": [
        "import firebase_admin\n",
        "from firebase_admin import credentials, firestore\n",
        "import pandas as pd\n",
        "\n",
        "# Inisialisasi Firebase Admin SDK\n",
        "cred = credentials.Certificate(\"key.json\")\n",
        "firebase_admin.initialize_app(cred)\n",
        "db = firestore.client()\n",
        "\n",
        "# Fungsi untuk mengambil data dari Firebase\n",
        "def load_data_from_db():\n",
        "    forums_ref = db.collection('topic')\n",
        "    docs = forums_ref.stream()\n",
        "\n",
        "    # Konversi data Firebase ke DataFrame\n",
        "    forums_data = []\n",
        "    for doc in docs:\n",
        "        forum = doc.to_dict()\n",
        "        forums_data.append(forum)\n",
        "\n",
        "    df = pd.DataFrame(forums_data)\n",
        "    return df\n"
      ]
    },
    {
      "cell_type": "code",
      "source": [
        "from sklearn.feature_extraction.text import CountVectorizer\n",
        "from sklearn.metrics.pairwise import cosine_similarity\n",
        "import pickle\n",
        "\n",
        "# Load data dari Firebase\n",
        "df = load_data_from_db()\n",
        "\n",
        "# Vectorizer dan Similarity\n",
        "cv = CountVectorizer(max_features=5000, stop_words='english')\n",
        "df['tags'] = df['tags'].apply(lambda x: ', '.join(x) if isinstance(x, list) else x)\n",
        "vector = cv.fit_transform(df['tags']).toarray()\n",
        "similarity = cosine_similarity(vector)\n",
        "\n",
        "\n",
        "# Simpan model ke Pickle\n",
        "with open('model.pkl', 'wb') as file:\n",
        "    pickle.dump((df, cv, similarity), file)"
      ],
      "metadata": {
        "id": "Ji_PE6wc1QvN"
      },
      "execution_count": null,
      "outputs": []
    }
  ]
}