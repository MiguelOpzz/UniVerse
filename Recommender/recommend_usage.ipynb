{
 "cells": [
  {
   "cell_type": "code",
   "execution_count": 1,
   "metadata": {
    "execution": {
     "iopub.execute_input": "2024-03-18T06:33:01.578213Z",
     "iopub.status.busy": "2024-03-18T06:33:01.5777Z",
     "iopub.status.idle": "2024-03-18T06:33:01.589848Z",
     "shell.execute_reply": "2024-03-18T06:33:01.587908Z",
     "shell.execute_reply.started": "2024-03-18T06:33:01.578176Z"
    },
    "id": "XICeWSBxUsSa",
    "trusted": true
   },
   "outputs": [],
   "source": [
    "import numpy as np\n",
    "import pandas as pd\n",
    "import seaborn as sns\n",
    "import matplotlib.pyplot as plt\n",
    "%matplotlib inline\n",
    "\n",
    "import warnings\n",
    "warnings.filterwarnings(\"ignore\")"
   ]
  },
  {
   "cell_type": "code",
   "execution_count": 3,
   "metadata": {
    "colab": {
     "base_uri": "https://localhost:8080/",
     "height": 495
    },
    "execution": {
     "iopub.execute_input": "2024-03-18T06:33:01.592317Z",
     "iopub.status.busy": "2024-03-18T06:33:01.591795Z",
     "iopub.status.idle": "2024-03-18T06:33:01.762009Z",
     "shell.execute_reply": "2024-03-18T06:33:01.760345Z",
     "shell.execute_reply.started": "2024-03-18T06:33:01.592281Z"
    },
    "id": "gVJg_HmJUsSa",
    "outputId": "262f12bc-0328-44e0-870b-c6f311450641",
    "trusted": true
   },
   "outputs": [
    {
     "data": {
      "text/html": [
       "<div>\n",
       "<style scoped>\n",
       "    .dataframe tbody tr th:only-of-type {\n",
       "        vertical-align: middle;\n",
       "    }\n",
       "\n",
       "    .dataframe tbody tr th {\n",
       "        vertical-align: top;\n",
       "    }\n",
       "\n",
       "    .dataframe thead th {\n",
       "        text-align: right;\n",
       "    }\n",
       "</style>\n",
       "<table border=\"1\" class=\"dataframe\">\n",
       "  <thead>\n",
       "    <tr style=\"text-align: right;\">\n",
       "      <th></th>\n",
       "      <th>Forum_ID</th>\n",
       "      <th>Judul</th>\n",
       "      <th>Deskripsi</th>\n",
       "      <th>Tag</th>\n",
       "    </tr>\n",
       "  </thead>\n",
       "  <tbody>\n",
       "    <tr>\n",
       "      <th>0</th>\n",
       "      <td>1</td>\n",
       "      <td>How to start learning machine learning effecti...</td>\n",
       "      <td>I am new to machine learning and want to know ...</td>\n",
       "      <td>machine learning, beginner, learning resources...</td>\n",
       "    </tr>\n",
       "    <tr>\n",
       "      <th>1</th>\n",
       "      <td>2</td>\n",
       "      <td>Which algorithms are essential for machine lea...</td>\n",
       "      <td>For someone starting in machine learning, whic...</td>\n",
       "      <td>machine learning, algorithms, beginners, AI mo...</td>\n",
       "    </tr>\n",
       "    <tr>\n",
       "      <th>2</th>\n",
       "      <td>3</td>\n",
       "      <td>How does deep learning differ from traditional...</td>\n",
       "      <td>Deep learning is often discussed in AI. What m...</td>\n",
       "      <td>machine learning, deep learning, AI, neural ne...</td>\n",
       "    </tr>\n",
       "    <tr>\n",
       "      <th>3</th>\n",
       "      <td>4</td>\n",
       "      <td>What are the applications of reinforcement lea...</td>\n",
       "      <td>Reinforcement learning has so many application...</td>\n",
       "      <td>machine learning, reinforcement learning, appl...</td>\n",
       "    </tr>\n",
       "    <tr>\n",
       "      <th>4</th>\n",
       "      <td>5</td>\n",
       "      <td>How to optimize a machine learning model for b...</td>\n",
       "      <td>I am trying to improve my model's performance....</td>\n",
       "      <td>machine learning, optimization, accuracy, perf...</td>\n",
       "    </tr>\n",
       "  </tbody>\n",
       "</table>\n",
       "</div>"
      ],
      "text/plain": [
       "   Forum_ID                                              Judul  \\\n",
       "0         1  How to start learning machine learning effecti...   \n",
       "1         2  Which algorithms are essential for machine lea...   \n",
       "2         3  How does deep learning differ from traditional...   \n",
       "3         4  What are the applications of reinforcement lea...   \n",
       "4         5  How to optimize a machine learning model for b...   \n",
       "\n",
       "                                           Deskripsi  \\\n",
       "0  I am new to machine learning and want to know ...   \n",
       "1  For someone starting in machine learning, whic...   \n",
       "2  Deep learning is often discussed in AI. What m...   \n",
       "3  Reinforcement learning has so many application...   \n",
       "4  I am trying to improve my model's performance....   \n",
       "\n",
       "                                                 Tag  \n",
       "0  machine learning, beginner, learning resources...  \n",
       "1  machine learning, algorithms, beginners, AI mo...  \n",
       "2  machine learning, deep learning, AI, neural ne...  \n",
       "3  machine learning, reinforcement learning, appl...  \n",
       "4  machine learning, optimization, accuracy, perf...  "
      ]
     },
     "execution_count": 3,
     "metadata": {},
     "output_type": "execute_result"
    }
   ],
   "source": [
    "df = pd.read_csv(\"dataforum.csv\")\n",
    "df.head()"
   ]
  },
  {
   "cell_type": "code",
   "execution_count": 4,
   "metadata": {
    "colab": {
     "base_uri": "https://localhost:8080/"
    },
    "execution": {
     "iopub.execute_input": "2024-03-18T06:33:01.765549Z",
     "iopub.status.busy": "2024-03-18T06:33:01.764101Z",
     "iopub.status.idle": "2024-03-18T06:33:01.775165Z",
     "shell.execute_reply": "2024-03-18T06:33:01.773547Z",
     "shell.execute_reply.started": "2024-03-18T06:33:01.765472Z"
    },
    "id": "3_DE9kUoUsSa",
    "outputId": "ebf1b046-14ea-49e0-9e3c-adf98f656600",
    "trusted": true
   },
   "outputs": [
    {
     "data": {
      "text/plain": [
       "(40, 4)"
      ]
     },
     "execution_count": 4,
     "metadata": {},
     "output_type": "execute_result"
    }
   ],
   "source": [
    "df.shape"
   ]
  },
  {
   "cell_type": "markdown",
   "metadata": {
    "id": "HzbPdwpxUsSm"
   },
   "source": [
    "<div style=\"display:fill;\n",
    "            border-radius:15px;\n",
    "            background-color:cyan;\n",
    "            font-size:210%;\n",
    "            font-family:Vardana;\n",
    "            letter-spacing:0.5px;\n",
    "            padding:10px;\n",
    "            color:Red;\n",
    "            border-style: solid;\n",
    "            border-color: red;\n",
    "            text-align:center;\">\n",
    "<b>We will be using Content Based Filtering for this dataset</b>\n",
    "</div>"
   ]
  },
  {
   "cell_type": "code",
   "execution_count": 5,
   "metadata": {
    "colab": {
     "base_uri": "https://localhost:8080/",
     "height": 711
    },
    "id": "d7S_4METKo0L",
    "outputId": "12739e7d-eb7b-4833-fc04-8f1176d01914"
   },
   "outputs": [
    {
     "data": {
      "text/plain": [
       "0     [machinelearning, beginner, learningresources,...\n",
       "1     [machinelearning, algorithms, beginners, aimod...\n",
       "2     [machinelearning, deeplearning, ai, neuralnetw...\n",
       "3     [machinelearning, reinforcementlearning, appli...\n",
       "4     [machinelearning, optimization, accuracy, perf...\n",
       "5       [machinelearning, datasets, beginner, practice]\n",
       "6     [machinelearning, ethics, challenges, responsi...\n",
       "7     [machinelearning, featurescaling, preprocessin...\n",
       "8     [machinelearning, evaluationmetrics, accuracy,...\n",
       "9     [machinelearning, batchlearning, onlinelearnin...\n",
       "10    [mobiledevelopment, appdesign, userexperience,...\n",
       "11    [mobiledevelopment, cross-platform, nativeapps...\n",
       "12    [mobiledevelopment, nativeapps, challenges, co...\n",
       "13    [mobiledevelopment, debugging, crashes, errorh...\n",
       "14    [mobiledevelopment, ios, android, differences,...\n",
       "15    [mobiledevelopment, beginner, learningresource...\n",
       "16    [mobiledevelopment, flutter, cross-platform, a...\n",
       "17    [mobiledevelopment, performanceoptimization, l...\n",
       "18    [mobiledevelopment, nativeapps, hybridapps, co...\n",
       "19    [mobiledevelopment, uidesign, user-friendly, b...\n",
       "20    [cloudcomputing, privatecloud, publiccloud, de...\n",
       "21    [cloudcomputing, storageoptimization, infrastr...\n",
       "22    [cloudcomputing, hybridcloud, scalability, inf...\n",
       "23    [cloudcomputing, serverlesscomputing, benefits...\n",
       "24    [cloudcomputing, security, challenges, solutions]\n",
       "25    [cloudcomputing, datasecurity, bestpractices, ...\n",
       "26    [cloudcomputing, publiccloud, privatecloud, hy...\n",
       "27    [cloudcomputing, migration, applications, best...\n",
       "28    [cloudcomputing, aws, azure, googlecloud, comp...\n",
       "29    [cloudcomputing, costmanagement, optimization,...\n",
       "30    [business, customeracquisition, marketing, tools]\n",
       "31                [business, strategy, planning, goals]\n",
       "32       [business, marketingplan, startups, budgeting]\n",
       "33                 [business, scaling, growth, funding]\n",
       "34          [business, customerretention, loyalty, crm]\n",
       "35    [business, smallbusiness, entrepreneurship, st...\n",
       "36          [business, businessplan, funding, planning]\n",
       "37           [business, digitalmarketing, trends, 2024]\n",
       "38      [business, cashflow, management, smallbusiness]\n",
       "39    [business, sustainability, profitability, repu...\n",
       "Name: Tag, dtype: object"
      ]
     },
     "execution_count": 5,
     "metadata": {},
     "output_type": "execute_result"
    }
   ],
   "source": [
    "#x.split(\", \"): Fungsi ini memisahkan string x menjadi daftar (list) berdasarkan pemisah koma dan spasi (\", \"). Jadi, misalnya, string \"Action, Adventure, Comedy\" akan diubah menjadi list [\"Action\", \"Adventure\", \"Comedy\"].\n",
    "#[tag.replace(\" \", \"\") for tag in x.split(\", \")]: Ini adalah list comprehension yang akan membuat list baru dengan menghapus spasi dalam setiap tag yang ada.\n",
    "#tambahan lowercase\n",
    "df[\"Tag\"].apply(lambda x: [tag.replace(\" \", \"\").lower() for tag in x.split(\", \")])"
   ]
  },
  {
   "cell_type": "code",
   "execution_count": 6,
   "metadata": {
    "colab": {
     "base_uri": "https://localhost:8080/"
    },
    "id": "bc-dkfEsuLmt",
    "outputId": "8460b38b-9879-469b-db4b-8f043a44f799"
   },
   "outputs": [
    {
     "name": "stdout",
     "output_type": "stream",
     "text": [
      "Collecting sklearn==0.0\n",
      "  Downloading sklearn-0.0.tar.gz (1.1 kB)\n",
      "Collecting scikit-learn\n",
      "  Downloading scikit_learn-1.5.2-cp39-cp39-win_amd64.whl (11.0 MB)\n",
      "Collecting scipy>=1.6.0\n",
      "  Downloading scipy-1.13.1-cp39-cp39-win_amd64.whl (46.2 MB)\n",
      "Collecting threadpoolctl>=3.1.0\n",
      "  Downloading threadpoolctl-3.5.0-py3-none-any.whl (18 kB)\n",
      "Requirement already satisfied: numpy>=1.19.5 in c:\\users\\mayra\\desktop\\capstone\\venvc\\lib\\site-packages (from scikit-learn->sklearn==0.0) (2.0.2)\n",
      "Collecting joblib>=1.2.0\n",
      "  Downloading joblib-1.4.2-py3-none-any.whl (301 kB)\n",
      "Using legacy 'setup.py install' for sklearn, since package 'wheel' is not installed.\n",
      "Installing collected packages: threadpoolctl, scipy, joblib, scikit-learn, sklearn\n",
      "    Running setup.py install for sklearn: started\n",
      "    Running setup.py install for sklearn: finished with status 'done'\n",
      "Successfully installed joblib-1.4.2 scikit-learn-1.5.2 scipy-1.13.1 sklearn-0.0 threadpoolctl-3.5.0\n"
     ]
    },
    {
     "name": "stderr",
     "output_type": "stream",
     "text": [
      "WARNING: You are using pip version 21.2.4; however, version 24.3.1 is available.\n",
      "You should consider upgrading via the 'C:\\Users\\mayra\\Desktop\\capstone\\venvc\\Scripts\\python.exe -m pip install --upgrade pip' command.\n"
     ]
    }
   ],
   "source": [
    "!pip install sklearn==0.0"
   ]
  },
  {
   "cell_type": "code",
   "execution_count": 7,
   "metadata": {
    "execution": {
     "iopub.execute_input": "2024-03-18T06:33:26.326772Z",
     "iopub.status.busy": "2024-03-18T06:33:26.326189Z",
     "iopub.status.idle": "2024-03-18T06:33:26.337544Z",
     "shell.execute_reply": "2024-03-18T06:33:26.335761Z",
     "shell.execute_reply.started": "2024-03-18T06:33:26.326738Z"
    },
    "id": "Qgcj4YfyUsSq",
    "trusted": true
   },
   "outputs": [],
   "source": [
    "from sklearn.feature_extraction.text import CountVectorizer\n",
    "cv = CountVectorizer(max_features=5000,stop_words='english')"
   ]
  },
  {
   "cell_type": "code",
   "execution_count": 8,
   "metadata": {
    "execution": {
     "iopub.execute_input": "2024-03-18T06:33:26.340965Z",
     "iopub.status.busy": "2024-03-18T06:33:26.339943Z",
     "iopub.status.idle": "2024-03-18T06:33:27.277142Z",
     "shell.execute_reply": "2024-03-18T06:33:27.275169Z",
     "shell.execute_reply.started": "2024-03-18T06:33:26.340911Z"
    },
    "id": "lDgBk7lcUsSq",
    "trusted": true
   },
   "outputs": [],
   "source": [
    "vector = cv.fit_transform(df['Tag']).toarray()"
   ]
  },
  {
   "cell_type": "code",
   "execution_count": 9,
   "metadata": {
    "colab": {
     "base_uri": "https://localhost:8080/"
    },
    "execution": {
     "iopub.execute_input": "2024-03-18T06:33:27.323556Z",
     "iopub.status.busy": "2024-03-18T06:33:27.322622Z",
     "iopub.status.idle": "2024-03-18T06:33:27.367052Z",
     "shell.execute_reply": "2024-03-18T06:33:27.365566Z",
     "shell.execute_reply.started": "2024-03-18T06:33:27.3235Z"
    },
    "id": "9nH7Fqa7UsSq",
    "outputId": "342682a1-fb27-457f-8489-143db6aca15f",
    "trusted": true
   },
   "outputs": [
    {
     "data": {
      "text/plain": [
       "array(['2024', 'accuracy', 'acquisition', 'advantages', 'ai',\n",
       "       'algorithms', 'android', 'app', 'applications', 'apps', 'aws',\n",
       "       'azure', 'batch', 'beginner', 'beginners', 'benefits', 'best',\n",
       "       'budgeting', 'business', 'cases', 'cash', 'challenges', 'cloud',\n",
       "       'coding', 'comparison', 'computing', 'cost', 'costs', 'crashes',\n",
       "       'crm', 'cross', 'customer', 'data', 'datasets', 'debugging',\n",
       "       'deep', 'deployment', 'design', 'development', 'devices',\n",
       "       'differences', 'digital', 'end', 'entrepreneurship', 'error',\n",
       "       'ethics', 'evaluation', 'examples', 'experience', 'feature',\n",
       "       'flow', 'flutter', 'friendly', 'funding', 'getting', 'goals',\n",
       "       'google', 'growth', 'handling', 'hybrid', 'importance',\n",
       "       'infrastructure', 'ios', 'learning', 'low', 'loyalty', 'machine',\n",
       "       'management', 'marketing', 'metrics', 'migration', 'mobile',\n",
       "       'models', 'native', 'networks', 'neural', 'online', 'optimization',\n",
       "       'performance', 'plan', 'planning', 'platform', 'platforms',\n",
       "       'practice', 'practices', 'precision', 'preprocessing', 'private',\n",
       "       'profitability', 'protection', 'public', 'reinforcement',\n",
       "       'reputation', 'resources', 'responsible', 'retention',\n",
       "       'scalability', 'scaling', 'security', 'serverless', 'small',\n",
       "       'solutions', 'started', 'startups', 'storage', 'strategies',\n",
       "       'strategy', 'sustainability', 'tools', 'trends', 'ui', 'use',\n",
       "       'user', 'ux'], dtype=object)"
      ]
     },
     "execution_count": 9,
     "metadata": {},
     "output_type": "execute_result"
    }
   ],
   "source": [
    "cv.get_feature_names_out()"
   ]
  },
  {
   "cell_type": "code",
   "execution_count": 10,
   "metadata": {
    "execution": {
     "iopub.execute_input": "2024-03-18T06:33:27.447053Z",
     "iopub.status.busy": "2024-03-18T06:33:27.446658Z",
     "iopub.status.idle": "2024-03-18T06:33:27.456924Z",
     "shell.execute_reply": "2024-03-18T06:33:27.455548Z",
     "shell.execute_reply.started": "2024-03-18T06:33:27.44702Z"
    },
    "id": "7j8V_a3wUsSr",
    "trusted": true
   },
   "outputs": [],
   "source": [
    "from sklearn.metrics.pairwise import cosine_similarity"
   ]
  },
  {
   "cell_type": "code",
   "execution_count": 14,
   "metadata": {
    "execution": {
     "iopub.execute_input": "2024-03-18T06:33:27.458925Z",
     "iopub.status.busy": "2024-03-18T06:33:27.458505Z",
     "iopub.status.idle": "2024-03-18T06:33:31.075076Z",
     "shell.execute_reply": "2024-03-18T06:33:31.073809Z",
     "shell.execute_reply.started": "2024-03-18T06:33:27.458885Z"
    },
    "id": "18vp8xLUUsSr",
    "trusted": true
   },
   "outputs": [],
   "source": [
    "similarity = cosine_similarity(vector)"
   ]
  },
  {
   "cell_type": "code",
   "execution_count": 13,
   "metadata": {
    "colab": {
     "base_uri": "https://localhost:8080/"
    },
    "execution": {
     "iopub.execute_input": "2024-03-18T06:33:31.124236Z",
     "iopub.status.busy": "2024-03-18T06:33:31.123817Z",
     "iopub.status.idle": "2024-03-18T06:33:31.14356Z",
     "shell.execute_reply": "2024-03-18T06:33:31.142379Z",
     "shell.execute_reply.started": "2024-03-18T06:33:31.124193Z"
    },
    "id": "5086TsUVUsSr",
    "outputId": "68f07179-598b-4ad0-e144-c453a4dadc69",
    "trusted": true
   },
   "outputs": [
    {
     "data": {
      "text/plain": [
       "[(17, 0.5773502691896258),\n",
       " (3, 0.5669467095138407),\n",
       " (1, 0.5),\n",
       " (2, 0.5),\n",
       " (16, 0.5)]"
      ]
     },
     "execution_count": 13,
     "metadata": {},
     "output_type": "execute_result"
    }
   ],
   "source": [
    "sorted(list(enumerate(similarity[0])),reverse=True,key= lambda x:x[1])[1:6]"
   ]
  },
  {
   "cell_type": "code",
   "execution_count": 11,
   "metadata": {
    "execution": {
     "iopub.execute_input": "2024-03-18T06:33:31.146085Z",
     "iopub.status.busy": "2024-03-18T06:33:31.145375Z",
     "iopub.status.idle": "2024-03-18T06:33:31.1573Z",
     "shell.execute_reply": "2024-03-18T06:33:31.155606Z",
     "shell.execute_reply.started": "2024-03-18T06:33:31.146045Z"
    },
    "id": "ke4yXxdjUsSr",
    "trusted": true
   },
   "outputs": [],
   "source": [
    "def recommend(forum):\n",
    "    index = df[df['Judul'] == forum].index[0]\n",
    "    distances = sorted(list(enumerate(similarity[index])),reverse=True,key = lambda x: x[1])\n",
    "    for i in distances[1:6]:\n",
    "        print(df.iloc[i[0]].Judul)\n",
    "        print(\"Cosine Similarity: \",i[1])\n"
   ]
  },
  {
   "cell_type": "markdown",
   "metadata": {
    "id": "HJV4mChGUsSr"
   },
   "source": [
    "<span style=\"background-color:yellow;\n",
    "             color:Black;\n",
    "             font-size:25px;\n",
    "             text-align:center;\n",
    "             border-radius:30px 80px;\n",
    "             font-weight:bold;\n",
    "             border:2px solid red;\n",
    "             padding:0px 20px;\">Forum recommended according to similarity\n",
    "</span>"
   ]
  },
  {
   "cell_type": "code",
   "execution_count": 15,
   "metadata": {
    "colab": {
     "base_uri": "https://localhost:8080/"
    },
    "execution": {
     "iopub.execute_input": "2024-03-18T06:45:07.733251Z",
     "iopub.status.busy": "2024-03-18T06:45:07.732733Z",
     "iopub.status.idle": "2024-03-18T06:45:07.753201Z",
     "shell.execute_reply": "2024-03-18T06:45:07.75186Z",
     "shell.execute_reply.started": "2024-03-18T06:45:07.733203Z"
    },
    "id": "oPxhSvmOUsSr",
    "outputId": "94806441-f663-41fe-eb16-6397a0bd1302",
    "trusted": true
   },
   "outputs": [
    {
     "name": "stdout",
     "output_type": "stream",
     "text": [
      "What is the difference between batch and online learning?\n",
      "Cosine Similarity:  0.6614378277661477\n",
      "What are the best datasets for machine learning beginners?\n",
      "Cosine Similarity:  0.6324555320336758\n",
      "What are the applications of reinforcement learning in real-world scenarios?\n",
      "Cosine Similarity:  0.6249999999999999\n",
      "How does deep learning differ from traditional machine learning?\n",
      "Cosine Similarity:  0.5892556509887895\n",
      "How to start developing mobile apps as a beginner?\n",
      "Cosine Similarity:  0.5345224838248487\n"
     ]
    }
   ],
   "source": [
    "recommend('How to start learning machine learning effectively?')"
   ]
  },
  {
   "cell_type": "code",
   "execution_count": 16,
   "metadata": {
    "colab": {
     "base_uri": "https://localhost:8080/"
    },
    "execution": {
     "iopub.execute_input": "2024-03-18T06:33:31.189478Z",
     "iopub.status.busy": "2024-03-18T06:33:31.188037Z",
     "iopub.status.idle": "2024-03-18T06:33:31.211406Z",
     "shell.execute_reply": "2024-03-18T06:33:31.209798Z",
     "shell.execute_reply.started": "2024-03-18T06:33:31.189392Z"
    },
    "id": "IyvY7gjjUsSr",
    "outputId": "6c665db6-c81d-4764-a4c0-792e685f5ad0",
    "trusted": true
   },
   "outputs": [
    {
     "name": "stdout",
     "output_type": "stream",
     "text": [
      "How to manage cash flow effectively in a small business?\n",
      "Cosine Similarity:  0.6681531047810608\n",
      "How to create an effective business plan?\n",
      "Cosine Similarity:  0.5714285714285713\n",
      "What are the key elements of a successful business strategy?\n",
      "Cosine Similarity:  0.5669467095138407\n",
      "What are the common challenges in scaling a business?\n",
      "Cosine Similarity:  0.3779644730092272\n",
      "What are the benefits of adopting sustainable practices in business?\n",
      "Cosine Similarity:  0.3779644730092272\n"
     ]
    }
   ],
   "source": [
    "recommend('What are the key steps to starting a successful small business?')"
   ]
  }
 ],
 "metadata": {
  "colab": {
   "provenance": []
  },
  "kaggle": {
   "accelerator": "none",
   "dataSources": [
    {
     "datasetId": 2502025,
     "sourceId": 4245706,
     "sourceType": "datasetVersion"
    }
   ],
   "dockerImageVersionId": 30260,
   "isGpuEnabled": false,
   "isInternetEnabled": true,
   "language": "python",
   "sourceType": "notebook"
  },
  "kernelspec": {
   "display_name": "venvc",
   "language": "python",
   "name": "python3"
  },
  "language_info": {
   "codemirror_mode": {
    "name": "ipython",
    "version": 3
   },
   "file_extension": ".py",
   "mimetype": "text/x-python",
   "name": "python",
   "nbconvert_exporter": "python",
   "pygments_lexer": "ipython3",
   "version": "3.9.10"
  }
 },
 "nbformat": 4,
 "nbformat_minor": 0
}
